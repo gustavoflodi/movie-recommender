{
 "cells": [
  {
   "cell_type": "code",
   "execution_count": 224,
   "metadata": {},
   "outputs": [],
   "source": [
    "import pandas as pd\n",
    "import os\n",
    "# from pyspark.sql import SparkSession\n",
    "import numpy as np\n",
    "import json\n",
    "from sklearn.feature_extraction.text import CountVectorizer\n",
    "import nltk"
   ]
  },
  {
   "cell_type": "code",
   "execution_count": 225,
   "metadata": {},
   "outputs": [],
   "source": [
    "pd.set_option('display.max_columns', None)\n",
    "pd.set_option('display.max_rows', None)"
   ]
  },
  {
   "cell_type": "code",
   "execution_count": 226,
   "metadata": {},
   "outputs": [],
   "source": [
    "movies = pd.read_csv('data/tmdb_5000_movies.csv')\n",
    "credits = pd.read_csv('data/tmdb_5000_credits.csv')"
   ]
  },
  {
   "cell_type": "code",
   "execution_count": 227,
   "metadata": {},
   "outputs": [],
   "source": [
    "def process_json(text):\n",
    "    return ' '.join([genre['name'].lower() for genre in json.loads(text)])"
   ]
  },
  {
   "cell_type": "code",
   "execution_count": 228,
   "metadata": {},
   "outputs": [],
   "source": [
    "movies.genres = movies.genres.apply(process_json)"
   ]
  },
  {
   "cell_type": "code",
   "execution_count": 229,
   "metadata": {},
   "outputs": [],
   "source": [
    "movies.keywords = movies.keywords.apply(process_json)"
   ]
  },
  {
   "cell_type": "code",
   "execution_count": 230,
   "metadata": {},
   "outputs": [],
   "source": [
    "movies = movies[['id', 'title', 'keywords', 'overview', 'vote_average', 'vote_count']]"
   ]
  },
  {
   "cell_type": "code",
   "execution_count": 231,
   "metadata": {},
   "outputs": [],
   "source": [
    "def process_json_name(text):\n",
    "    return ' '.join([nome['name'].lower().replace(' ', '') for nome in json.loads(text)])\n",
    "\n",
    "def process_json_director(text):\n",
    "    return ' '.join([nome['name'].lower().replace(' ', '') for nome in json.loads(text)\n",
    "                     if nome['department'] == 'Directing'])"
   ]
  },
  {
   "cell_type": "code",
   "execution_count": 232,
   "metadata": {},
   "outputs": [],
   "source": [
    "credits.cast = credits.cast.apply(process_json_name)"
   ]
  },
  {
   "cell_type": "code",
   "execution_count": 233,
   "metadata": {},
   "outputs": [],
   "source": [
    "credits.crew = credits.crew.apply(process_json_director)"
   ]
  },
  {
   "cell_type": "code",
   "execution_count": 234,
   "metadata": {},
   "outputs": [],
   "source": [
    "movies['overview'] = movies.overview.apply(lambda x: str(x).lower())"
   ]
  },
  {
   "cell_type": "code",
   "execution_count": 235,
   "metadata": {},
   "outputs": [],
   "source": [
    "credits.rename({'movie_id': 'id'}, inplace=True, axis=1)"
   ]
  },
  {
   "cell_type": "code",
   "execution_count": 236,
   "metadata": {},
   "outputs": [
    {
     "data": {
      "text/html": [
       "<div>\n",
       "<style scoped>\n",
       "    .dataframe tbody tr th:only-of-type {\n",
       "        vertical-align: middle;\n",
       "    }\n",
       "\n",
       "    .dataframe tbody tr th {\n",
       "        vertical-align: top;\n",
       "    }\n",
       "\n",
       "    .dataframe thead th {\n",
       "        text-align: right;\n",
       "    }\n",
       "</style>\n",
       "<table border=\"1\" class=\"dataframe\">\n",
       "  <thead>\n",
       "    <tr style=\"text-align: right;\">\n",
       "      <th></th>\n",
       "      <th>id</th>\n",
       "      <th>title_x</th>\n",
       "      <th>keywords</th>\n",
       "      <th>overview</th>\n",
       "      <th>vote_average</th>\n",
       "      <th>vote_count</th>\n",
       "      <th>title_y</th>\n",
       "      <th>cast</th>\n",
       "      <th>crew</th>\n",
       "    </tr>\n",
       "  </thead>\n",
       "  <tbody>\n",
       "    <tr>\n",
       "      <th>0</th>\n",
       "      <td>19995</td>\n",
       "      <td>Avatar</td>\n",
       "      <td>culture clash future space war space colony so...</td>\n",
       "      <td>in the 22nd century, a paraplegic marine is di...</td>\n",
       "      <td>7.2</td>\n",
       "      <td>11800</td>\n",
       "      <td>Avatar</td>\n",
       "      <td>samworthington zoesaldana sigourneyweaver step...</td>\n",
       "      <td>jamescameron</td>\n",
       "    </tr>\n",
       "    <tr>\n",
       "      <th>1</th>\n",
       "      <td>285</td>\n",
       "      <td>Pirates of the Caribbean: At World's End</td>\n",
       "      <td>ocean drug abuse exotic island east india trad...</td>\n",
       "      <td>captain barbossa, long believed to be dead, ha...</td>\n",
       "      <td>6.9</td>\n",
       "      <td>4500</td>\n",
       "      <td>Pirates of the Caribbean: At World's End</td>\n",
       "      <td>johnnydepp orlandobloom keiraknightley stellan...</td>\n",
       "      <td>goreverbinski pamelaalch sharronreynolds karen...</td>\n",
       "    </tr>\n",
       "    <tr>\n",
       "      <th>2</th>\n",
       "      <td>206647</td>\n",
       "      <td>Spectre</td>\n",
       "      <td>spy based on novel secret agent sequel mi6 bri...</td>\n",
       "      <td>a cryptic message from bond’s past sends him o...</td>\n",
       "      <td>6.3</td>\n",
       "      <td>4466</td>\n",
       "      <td>Spectre</td>\n",
       "      <td>danielcraig christophwaltz léaseydoux ralphfie...</td>\n",
       "      <td>sammendes jayne-anntenggren nicolettamani susi...</td>\n",
       "    </tr>\n",
       "    <tr>\n",
       "      <th>3</th>\n",
       "      <td>49026</td>\n",
       "      <td>The Dark Knight Rises</td>\n",
       "      <td>dc comics crime fighter terrorist secret ident...</td>\n",
       "      <td>following the death of district attorney harve...</td>\n",
       "      <td>7.6</td>\n",
       "      <td>9106</td>\n",
       "      <td>The Dark Knight Rises</td>\n",
       "      <td>christianbale michaelcaine garyoldman annehath...</td>\n",
       "      <td>christophernolan stevegehrke matthewreedy sidk...</td>\n",
       "    </tr>\n",
       "    <tr>\n",
       "      <th>4</th>\n",
       "      <td>49529</td>\n",
       "      <td>John Carter</td>\n",
       "      <td>based on novel mars medallion space travel pri...</td>\n",
       "      <td>john carter is a war-weary, former military ca...</td>\n",
       "      <td>6.1</td>\n",
       "      <td>2124</td>\n",
       "      <td>John Carter</td>\n",
       "      <td>taylorkitsch lynncollins samanthamorton willem...</td>\n",
       "      <td>andrewstanton anniepenn tommygormley bendixon ...</td>\n",
       "    </tr>\n",
       "  </tbody>\n",
       "</table>\n",
       "</div>"
      ],
      "text/plain": [
       "       id                                   title_x  \\\n",
       "0   19995                                    Avatar   \n",
       "1     285  Pirates of the Caribbean: At World's End   \n",
       "2  206647                                   Spectre   \n",
       "3   49026                     The Dark Knight Rises   \n",
       "4   49529                               John Carter   \n",
       "\n",
       "                                            keywords  \\\n",
       "0  culture clash future space war space colony so...   \n",
       "1  ocean drug abuse exotic island east india trad...   \n",
       "2  spy based on novel secret agent sequel mi6 bri...   \n",
       "3  dc comics crime fighter terrorist secret ident...   \n",
       "4  based on novel mars medallion space travel pri...   \n",
       "\n",
       "                                            overview  vote_average  \\\n",
       "0  in the 22nd century, a paraplegic marine is di...           7.2   \n",
       "1  captain barbossa, long believed to be dead, ha...           6.9   \n",
       "2  a cryptic message from bond’s past sends him o...           6.3   \n",
       "3  following the death of district attorney harve...           7.6   \n",
       "4  john carter is a war-weary, former military ca...           6.1   \n",
       "\n",
       "   vote_count                                   title_y  \\\n",
       "0       11800                                    Avatar   \n",
       "1        4500  Pirates of the Caribbean: At World's End   \n",
       "2        4466                                   Spectre   \n",
       "3        9106                     The Dark Knight Rises   \n",
       "4        2124                               John Carter   \n",
       "\n",
       "                                                cast  \\\n",
       "0  samworthington zoesaldana sigourneyweaver step...   \n",
       "1  johnnydepp orlandobloom keiraknightley stellan...   \n",
       "2  danielcraig christophwaltz léaseydoux ralphfie...   \n",
       "3  christianbale michaelcaine garyoldman annehath...   \n",
       "4  taylorkitsch lynncollins samanthamorton willem...   \n",
       "\n",
       "                                                crew  \n",
       "0                                       jamescameron  \n",
       "1  goreverbinski pamelaalch sharronreynolds karen...  \n",
       "2  sammendes jayne-anntenggren nicolettamani susi...  \n",
       "3  christophernolan stevegehrke matthewreedy sidk...  \n",
       "4  andrewstanton anniepenn tommygormley bendixon ...  "
      ]
     },
     "execution_count": 236,
     "metadata": {},
     "output_type": "execute_result"
    }
   ],
   "source": [
    "final_df = movies.merge(credits, on='id', how='inner')\n",
    "final_df.head()"
   ]
  },
  {
   "cell_type": "code",
   "execution_count": 237,
   "metadata": {},
   "outputs": [],
   "source": [
    "final_df.rename({'title_x': 'title'}, inplace=True, axis=1)"
   ]
  },
  {
   "cell_type": "code",
   "execution_count": 152,
   "metadata": {},
   "outputs": [
    {
     "data": {
      "text/html": [
       "<div>\n",
       "<style scoped>\n",
       "    .dataframe tbody tr th:only-of-type {\n",
       "        vertical-align: middle;\n",
       "    }\n",
       "\n",
       "    .dataframe tbody tr th {\n",
       "        vertical-align: top;\n",
       "    }\n",
       "\n",
       "    .dataframe thead th {\n",
       "        text-align: right;\n",
       "    }\n",
       "</style>\n",
       "<table border=\"1\" class=\"dataframe\">\n",
       "  <thead>\n",
       "    <tr style=\"text-align: right;\">\n",
       "      <th></th>\n",
       "      <th>id</th>\n",
       "      <th>title</th>\n",
       "      <th>keywords</th>\n",
       "      <th>overview</th>\n",
       "      <th>vote_average</th>\n",
       "      <th>vote_count</th>\n",
       "      <th>title_y</th>\n",
       "      <th>cast</th>\n",
       "      <th>crew</th>\n",
       "    </tr>\n",
       "  </thead>\n",
       "  <tbody>\n",
       "    <tr>\n",
       "      <th>0</th>\n",
       "      <td>19995</td>\n",
       "      <td>Avatar</td>\n",
       "      <td>culture clash future space war space colony so...</td>\n",
       "      <td>in the 22nd century, a paraplegic marine is di...</td>\n",
       "      <td>7.2</td>\n",
       "      <td>11800</td>\n",
       "      <td>Avatar</td>\n",
       "      <td>samworthington zoesaldana sigourneyweaver step...</td>\n",
       "      <td>jamescameron</td>\n",
       "    </tr>\n",
       "    <tr>\n",
       "      <th>1</th>\n",
       "      <td>285</td>\n",
       "      <td>Pirates of the Caribbean: At World's End</td>\n",
       "      <td>ocean drug abuse exotic island east india trad...</td>\n",
       "      <td>captain barbossa, long believed to be dead, ha...</td>\n",
       "      <td>6.9</td>\n",
       "      <td>4500</td>\n",
       "      <td>Pirates of the Caribbean: At World's End</td>\n",
       "      <td>johnnydepp orlandobloom keiraknightley stellan...</td>\n",
       "      <td>goreverbinski pamelaalch sharronreynolds karen...</td>\n",
       "    </tr>\n",
       "    <tr>\n",
       "      <th>2</th>\n",
       "      <td>206647</td>\n",
       "      <td>Spectre</td>\n",
       "      <td>spy based on novel secret agent sequel mi6 bri...</td>\n",
       "      <td>a cryptic message from bond’s past sends him o...</td>\n",
       "      <td>6.3</td>\n",
       "      <td>4466</td>\n",
       "      <td>Spectre</td>\n",
       "      <td>danielcraig christophwaltz léaseydoux ralphfie...</td>\n",
       "      <td>sammendes jayne-anntenggren nicolettamani susi...</td>\n",
       "    </tr>\n",
       "    <tr>\n",
       "      <th>3</th>\n",
       "      <td>49026</td>\n",
       "      <td>The Dark Knight Rises</td>\n",
       "      <td>dc comics crime fighter terrorist secret ident...</td>\n",
       "      <td>following the death of district attorney harve...</td>\n",
       "      <td>7.6</td>\n",
       "      <td>9106</td>\n",
       "      <td>The Dark Knight Rises</td>\n",
       "      <td>christianbale michaelcaine garyoldman annehath...</td>\n",
       "      <td>christophernolan stevegehrke matthewreedy sidk...</td>\n",
       "    </tr>\n",
       "    <tr>\n",
       "      <th>4</th>\n",
       "      <td>49529</td>\n",
       "      <td>John Carter</td>\n",
       "      <td>based on novel mars medallion space travel pri...</td>\n",
       "      <td>john carter is a war-weary, former military ca...</td>\n",
       "      <td>6.1</td>\n",
       "      <td>2124</td>\n",
       "      <td>John Carter</td>\n",
       "      <td>taylorkitsch lynncollins samanthamorton willem...</td>\n",
       "      <td>andrewstanton anniepenn tommygormley bendixon ...</td>\n",
       "    </tr>\n",
       "  </tbody>\n",
       "</table>\n",
       "</div>"
      ],
      "text/plain": [
       "       id                                     title  \\\n",
       "0   19995                                    Avatar   \n",
       "1     285  Pirates of the Caribbean: At World's End   \n",
       "2  206647                                   Spectre   \n",
       "3   49026                     The Dark Knight Rises   \n",
       "4   49529                               John Carter   \n",
       "\n",
       "                                            keywords  \\\n",
       "0  culture clash future space war space colony so...   \n",
       "1  ocean drug abuse exotic island east india trad...   \n",
       "2  spy based on novel secret agent sequel mi6 bri...   \n",
       "3  dc comics crime fighter terrorist secret ident...   \n",
       "4  based on novel mars medallion space travel pri...   \n",
       "\n",
       "                                            overview  vote_average  \\\n",
       "0  in the 22nd century, a paraplegic marine is di...           7.2   \n",
       "1  captain barbossa, long believed to be dead, ha...           6.9   \n",
       "2  a cryptic message from bond’s past sends him o...           6.3   \n",
       "3  following the death of district attorney harve...           7.6   \n",
       "4  john carter is a war-weary, former military ca...           6.1   \n",
       "\n",
       "   vote_count                                   title_y  \\\n",
       "0       11800                                    Avatar   \n",
       "1        4500  Pirates of the Caribbean: At World's End   \n",
       "2        4466                                   Spectre   \n",
       "3        9106                     The Dark Knight Rises   \n",
       "4        2124                               John Carter   \n",
       "\n",
       "                                                cast  \\\n",
       "0  samworthington zoesaldana sigourneyweaver step...   \n",
       "1  johnnydepp orlandobloom keiraknightley stellan...   \n",
       "2  danielcraig christophwaltz léaseydoux ralphfie...   \n",
       "3  christianbale michaelcaine garyoldman annehath...   \n",
       "4  taylorkitsch lynncollins samanthamorton willem...   \n",
       "\n",
       "                                                crew  \n",
       "0                                       jamescameron  \n",
       "1  goreverbinski pamelaalch sharronreynolds karen...  \n",
       "2  sammendes jayne-anntenggren nicolettamani susi...  \n",
       "3  christophernolan stevegehrke matthewreedy sidk...  \n",
       "4  andrewstanton anniepenn tommygormley bendixon ...  "
      ]
     },
     "execution_count": 152,
     "metadata": {},
     "output_type": "execute_result"
    }
   ],
   "source": [
    "final_df.head()"
   ]
  },
  {
   "cell_type": "code",
   "execution_count": 238,
   "metadata": {},
   "outputs": [],
   "source": [
    "mean_vote = np.mean(final_df['vote_average'])\n",
    "minimum_votes  = final_df['vote_count'].quantile(0.70)\n",
    "\n",
    "def weighted_rating(x, minimum_votes=minimum_votes, mean_vote=mean_vote):\n",
    "    v = x['vote_count']\n",
    "    R = x['vote_average']\n",
    "    return (v / (v + minimum_votes) * R) + (minimum_votes / (v + minimum_votes) * mean_vote)\n",
    "\n",
    "final_df['weighted_rating'] = final_df.apply(weighted_rating, axis=1)"
   ]
  },
  {
   "cell_type": "code",
   "execution_count": 239,
   "metadata": {},
   "outputs": [],
   "source": [
    "final_df.drop(['vote_count', 'vote_average'], inplace=True, axis=1)"
   ]
  },
  {
   "cell_type": "code",
   "execution_count": 240,
   "metadata": {},
   "outputs": [],
   "source": [
    "final_df.keywords = final_df.keywords.apply(lambda x: x.strip() + ' ')\n",
    "final_df.overview = final_df.overview.apply(lambda x: x.strip())\n",
    "final_df.cast = final_df.cast.apply(lambda x: ' ' + x.strip())\n",
    "final_df.crew = final_df.crew.apply(lambda x: ' ' + x.strip())\n",
    "\n",
    "final_df['related_words'] = final_df.keywords + final_df.overview + final_df.cast + final_df.crew"
   ]
  },
  {
   "cell_type": "code",
   "execution_count": 241,
   "metadata": {},
   "outputs": [],
   "source": [
    "movies_df = final_df[['id', 'title', 'related_words', 'weighted_rating']]"
   ]
  },
  {
   "cell_type": "code",
   "execution_count": 242,
   "metadata": {},
   "outputs": [
    {
     "name": "stderr",
     "output_type": "stream",
     "text": [
      "/tmp/ipykernel_870603/746128095.py:8: SettingWithCopyWarning: \n",
      "A value is trying to be set on a copy of a slice from a DataFrame.\n",
      "Try using .loc[row_indexer,col_indexer] = value instead\n",
      "\n",
      "See the caveats in the documentation: https://pandas.pydata.org/pandas-docs/stable/user_guide/indexing.html#returning-a-view-versus-a-copy\n",
      "  movies_df['related_words'] = movies_df['related_words'].apply(get_stem)\n"
     ]
    }
   ],
   "source": [
    "from nltk.stem import PorterStemmer\n",
    "\n",
    "stemmer = PorterStemmer()\n",
    "\n",
    "def get_stem(text):\n",
    "    return ' '.join([stemmer.stem(word) for word in text.split()])\n",
    "\n",
    "movies_df['related_words'] = movies_df['related_words'].apply(get_stem)"
   ]
  },
  {
   "cell_type": "code",
   "execution_count": 243,
   "metadata": {},
   "outputs": [
    {
     "data": {
      "text/html": [
       "<div>\n",
       "<style scoped>\n",
       "    .dataframe tbody tr th:only-of-type {\n",
       "        vertical-align: middle;\n",
       "    }\n",
       "\n",
       "    .dataframe tbody tr th {\n",
       "        vertical-align: top;\n",
       "    }\n",
       "\n",
       "    .dataframe thead th {\n",
       "        text-align: right;\n",
       "    }\n",
       "</style>\n",
       "<table border=\"1\" class=\"dataframe\">\n",
       "  <thead>\n",
       "    <tr style=\"text-align: right;\">\n",
       "      <th></th>\n",
       "      <th>id</th>\n",
       "      <th>title</th>\n",
       "      <th>related_words</th>\n",
       "      <th>weighted_rating</th>\n",
       "    </tr>\n",
       "  </thead>\n",
       "  <tbody>\n",
       "    <tr>\n",
       "      <th>0</th>\n",
       "      <td>19995</td>\n",
       "      <td>Avatar</td>\n",
       "      <td>cultur clash futur space war space coloni soci...</td>\n",
       "      <td>7.148013</td>\n",
       "    </tr>\n",
       "    <tr>\n",
       "      <th>1</th>\n",
       "      <td>285</td>\n",
       "      <td>Pirates of the Caribbean: At World's End</td>\n",
       "      <td>ocean drug abus exot island east india trade c...</td>\n",
       "      <td>6.807627</td>\n",
       "    </tr>\n",
       "    <tr>\n",
       "      <th>2</th>\n",
       "      <td>206647</td>\n",
       "      <td>Spectre</td>\n",
       "      <td>spi base on novel secret agent sequel mi6 brit...</td>\n",
       "      <td>6.276075</td>\n",
       "    </tr>\n",
       "    <tr>\n",
       "      <th>3</th>\n",
       "      <td>49026</td>\n",
       "      <td>The Dark Knight Rises</td>\n",
       "      <td>dc comic crime fighter terrorist secret ident ...</td>\n",
       "      <td>7.509565</td>\n",
       "    </tr>\n",
       "    <tr>\n",
       "      <th>4</th>\n",
       "      <td>49529</td>\n",
       "      <td>John Carter</td>\n",
       "      <td>base on novel mar medallion space travel princ...</td>\n",
       "      <td>6.098319</td>\n",
       "    </tr>\n",
       "  </tbody>\n",
       "</table>\n",
       "</div>"
      ],
      "text/plain": [
       "       id                                     title  \\\n",
       "0   19995                                    Avatar   \n",
       "1     285  Pirates of the Caribbean: At World's End   \n",
       "2  206647                                   Spectre   \n",
       "3   49026                     The Dark Knight Rises   \n",
       "4   49529                               John Carter   \n",
       "\n",
       "                                       related_words  weighted_rating  \n",
       "0  cultur clash futur space war space coloni soci...         7.148013  \n",
       "1  ocean drug abus exot island east india trade c...         6.807627  \n",
       "2  spi base on novel secret agent sequel mi6 brit...         6.276075  \n",
       "3  dc comic crime fighter terrorist secret ident ...         7.509565  \n",
       "4  base on novel mar medallion space travel princ...         6.098319  "
      ]
     },
     "execution_count": 243,
     "metadata": {},
     "output_type": "execute_result"
    }
   ],
   "source": [
    "movies_df.head()"
   ]
  },
  {
   "cell_type": "code",
   "execution_count": 244,
   "metadata": {},
   "outputs": [],
   "source": [
    "count_vec = CountVectorizer(max_features=5000, stop_words='english')\n",
    "word_vector = count_vec.fit_transform(movies_df['related_words']).toarray()\n"
   ]
  },
  {
   "cell_type": "code",
   "execution_count": 245,
   "metadata": {},
   "outputs": [],
   "source": [
    "from sklearn.metrics.pairwise import cosine_similarity"
   ]
  },
  {
   "cell_type": "code",
   "execution_count": 246,
   "metadata": {},
   "outputs": [],
   "source": [
    "similarity_words = cosine_similarity(word_vector)"
   ]
  },
  {
   "cell_type": "code",
   "execution_count": 247,
   "metadata": {},
   "outputs": [
    {
     "data": {
      "text/html": [
       "<div>\n",
       "<style scoped>\n",
       "    .dataframe tbody tr th:only-of-type {\n",
       "        vertical-align: middle;\n",
       "    }\n",
       "\n",
       "    .dataframe tbody tr th {\n",
       "        vertical-align: top;\n",
       "    }\n",
       "\n",
       "    .dataframe thead th {\n",
       "        text-align: right;\n",
       "    }\n",
       "</style>\n",
       "<table border=\"1\" class=\"dataframe\">\n",
       "  <thead>\n",
       "    <tr style=\"text-align: right;\">\n",
       "      <th></th>\n",
       "      <th>id</th>\n",
       "      <th>title</th>\n",
       "      <th>related_words</th>\n",
       "      <th>weighted_rating</th>\n",
       "    </tr>\n",
       "  </thead>\n",
       "  <tbody>\n",
       "    <tr>\n",
       "      <th>0</th>\n",
       "      <td>19995</td>\n",
       "      <td>Avatar</td>\n",
       "      <td>cultur clash futur space war space coloni soci...</td>\n",
       "      <td>7.148013</td>\n",
       "    </tr>\n",
       "    <tr>\n",
       "      <th>1</th>\n",
       "      <td>285</td>\n",
       "      <td>Pirates of the Caribbean: At World's End</td>\n",
       "      <td>ocean drug abus exot island east india trade c...</td>\n",
       "      <td>6.807627</td>\n",
       "    </tr>\n",
       "    <tr>\n",
       "      <th>2</th>\n",
       "      <td>206647</td>\n",
       "      <td>Spectre</td>\n",
       "      <td>spi base on novel secret agent sequel mi6 brit...</td>\n",
       "      <td>6.276075</td>\n",
       "    </tr>\n",
       "    <tr>\n",
       "      <th>3</th>\n",
       "      <td>49026</td>\n",
       "      <td>The Dark Knight Rises</td>\n",
       "      <td>dc comic crime fighter terrorist secret ident ...</td>\n",
       "      <td>7.509565</td>\n",
       "    </tr>\n",
       "    <tr>\n",
       "      <th>4</th>\n",
       "      <td>49529</td>\n",
       "      <td>John Carter</td>\n",
       "      <td>base on novel mar medallion space travel princ...</td>\n",
       "      <td>6.098319</td>\n",
       "    </tr>\n",
       "  </tbody>\n",
       "</table>\n",
       "</div>"
      ],
      "text/plain": [
       "       id                                     title  \\\n",
       "0   19995                                    Avatar   \n",
       "1     285  Pirates of the Caribbean: At World's End   \n",
       "2  206647                                   Spectre   \n",
       "3   49026                     The Dark Knight Rises   \n",
       "4   49529                               John Carter   \n",
       "\n",
       "                                       related_words  weighted_rating  \n",
       "0  cultur clash futur space war space coloni soci...         7.148013  \n",
       "1  ocean drug abus exot island east india trade c...         6.807627  \n",
       "2  spi base on novel secret agent sequel mi6 brit...         6.276075  \n",
       "3  dc comic crime fighter terrorist secret ident ...         7.509565  \n",
       "4  base on novel mar medallion space travel princ...         6.098319  "
      ]
     },
     "execution_count": 247,
     "metadata": {},
     "output_type": "execute_result"
    }
   ],
   "source": [
    "movies_df.head()"
   ]
  },
  {
   "cell_type": "code",
   "execution_count": 248,
   "metadata": {},
   "outputs": [
    {
     "data": {
      "text/plain": [
       "[0, 1, 2, 3]"
      ]
     },
     "execution_count": 248,
     "metadata": {},
     "output_type": "execute_result"
    }
   ],
   "source": [
    "test = np.array([4,3,2,1])\n",
    "[order[0] for order in sorted(enumerate(test), key=lambda x: x[1], reverse=True)]"
   ]
  },
  {
   "cell_type": "code",
   "execution_count": 249,
   "metadata": {},
   "outputs": [],
   "source": [
    "def get_similar_movies(title):\n",
    "    idx = movies_df[movies_df['title'] == title].index[0]\n",
    "    similar_idx = np.array([order[0] for order in \n",
    "                            sorted(enumerate(similarity_words[idx]), key=lambda x: x[1], reverse=True)])[1:11]\n",
    "    similar_movies = movies_df.iloc[similar_idx[1:11]][['title', 'weighted_rating']]\\\n",
    "            .sort_values(by='weighted_rating', ascending=False)\n",
    "\n",
    "    return similar_movies"
   ]
  },
  {
   "cell_type": "code",
   "execution_count": 250,
   "metadata": {},
   "outputs": [
    {
     "data": {
      "text/html": [
       "<div>\n",
       "<style scoped>\n",
       "    .dataframe tbody tr th:only-of-type {\n",
       "        vertical-align: middle;\n",
       "    }\n",
       "\n",
       "    .dataframe tbody tr th {\n",
       "        vertical-align: top;\n",
       "    }\n",
       "\n",
       "    .dataframe thead th {\n",
       "        text-align: right;\n",
       "    }\n",
       "</style>\n",
       "<table border=\"1\" class=\"dataframe\">\n",
       "  <thead>\n",
       "    <tr style=\"text-align: right;\">\n",
       "      <th></th>\n",
       "      <th>id</th>\n",
       "      <th>title</th>\n",
       "      <th>related_words</th>\n",
       "      <th>weighted_rating</th>\n",
       "    </tr>\n",
       "  </thead>\n",
       "  <tbody>\n",
       "    <tr>\n",
       "      <th>0</th>\n",
       "      <td>19995</td>\n",
       "      <td>Avatar</td>\n",
       "      <td>cultur clash futur space war space coloni soci...</td>\n",
       "      <td>7.148013</td>\n",
       "    </tr>\n",
       "    <tr>\n",
       "      <th>1</th>\n",
       "      <td>285</td>\n",
       "      <td>Pirates of the Caribbean: At World's End</td>\n",
       "      <td>ocean drug abus exot island east india trade c...</td>\n",
       "      <td>6.807627</td>\n",
       "    </tr>\n",
       "    <tr>\n",
       "      <th>2</th>\n",
       "      <td>206647</td>\n",
       "      <td>Spectre</td>\n",
       "      <td>spi base on novel secret agent sequel mi6 brit...</td>\n",
       "      <td>6.276075</td>\n",
       "    </tr>\n",
       "    <tr>\n",
       "      <th>3</th>\n",
       "      <td>49026</td>\n",
       "      <td>The Dark Knight Rises</td>\n",
       "      <td>dc comic crime fighter terrorist secret ident ...</td>\n",
       "      <td>7.509565</td>\n",
       "    </tr>\n",
       "    <tr>\n",
       "      <th>4</th>\n",
       "      <td>49529</td>\n",
       "      <td>John Carter</td>\n",
       "      <td>base on novel mar medallion space travel princ...</td>\n",
       "      <td>6.098319</td>\n",
       "    </tr>\n",
       "  </tbody>\n",
       "</table>\n",
       "</div>"
      ],
      "text/plain": [
       "       id                                     title  \\\n",
       "0   19995                                    Avatar   \n",
       "1     285  Pirates of the Caribbean: At World's End   \n",
       "2  206647                                   Spectre   \n",
       "3   49026                     The Dark Knight Rises   \n",
       "4   49529                               John Carter   \n",
       "\n",
       "                                       related_words  weighted_rating  \n",
       "0  cultur clash futur space war space coloni soci...         7.148013  \n",
       "1  ocean drug abus exot island east india trade c...         6.807627  \n",
       "2  spi base on novel secret agent sequel mi6 brit...         6.276075  \n",
       "3  dc comic crime fighter terrorist secret ident ...         7.509565  \n",
       "4  base on novel mar medallion space travel princ...         6.098319  "
      ]
     },
     "execution_count": 250,
     "metadata": {},
     "output_type": "execute_result"
    }
   ],
   "source": [
    "movies_df.head()"
   ]
  },
  {
   "cell_type": "code",
   "execution_count": 251,
   "metadata": {},
   "outputs": [
    {
     "data": {
      "text/html": [
       "<div>\n",
       "<style scoped>\n",
       "    .dataframe tbody tr th:only-of-type {\n",
       "        vertical-align: middle;\n",
       "    }\n",
       "\n",
       "    .dataframe tbody tr th {\n",
       "        vertical-align: top;\n",
       "    }\n",
       "\n",
       "    .dataframe thead th {\n",
       "        text-align: right;\n",
       "    }\n",
       "</style>\n",
       "<table border=\"1\" class=\"dataframe\">\n",
       "  <thead>\n",
       "    <tr style=\"text-align: right;\">\n",
       "      <th></th>\n",
       "      <th>title</th>\n",
       "      <th>weighted_rating</th>\n",
       "    </tr>\n",
       "  </thead>\n",
       "  <tbody>\n",
       "    <tr>\n",
       "      <th>0</th>\n",
       "      <td>Avatar</td>\n",
       "      <td>7.148013</td>\n",
       "    </tr>\n",
       "    <tr>\n",
       "      <th>184</th>\n",
       "      <td>Home</td>\n",
       "      <td>6.604167</td>\n",
       "    </tr>\n",
       "    <tr>\n",
       "      <th>1959</th>\n",
       "      <td>Star Trek IV: The Voyage Home</td>\n",
       "      <td>6.456382</td>\n",
       "    </tr>\n",
       "    <tr>\n",
       "      <th>1068</th>\n",
       "      <td>The Hitchhiker's Guide to the Galaxy</td>\n",
       "      <td>6.444384</td>\n",
       "    </tr>\n",
       "    <tr>\n",
       "      <th>1217</th>\n",
       "      <td>Paul</td>\n",
       "      <td>6.400022</td>\n",
       "    </tr>\n",
       "    <tr>\n",
       "      <th>1201</th>\n",
       "      <td>Predators</td>\n",
       "      <td>6.029967</td>\n",
       "    </tr>\n",
       "    <tr>\n",
       "      <th>939</th>\n",
       "      <td>I Am Number Four</td>\n",
       "      <td>5.951979</td>\n",
       "    </tr>\n",
       "    <tr>\n",
       "      <th>754</th>\n",
       "      <td>Planet 51</td>\n",
       "      <td>5.851497</td>\n",
       "    </tr>\n",
       "    <tr>\n",
       "      <th>778</th>\n",
       "      <td>Meet Dave</td>\n",
       "      <td>5.666546</td>\n",
       "    </tr>\n",
       "  </tbody>\n",
       "</table>\n",
       "</div>"
      ],
      "text/plain": [
       "                                     title  weighted_rating\n",
       "0                                   Avatar         7.148013\n",
       "184                                   Home         6.604167\n",
       "1959         Star Trek IV: The Voyage Home         6.456382\n",
       "1068  The Hitchhiker's Guide to the Galaxy         6.444384\n",
       "1217                                  Paul         6.400022\n",
       "1201                             Predators         6.029967\n",
       "939                       I Am Number Four         5.951979\n",
       "754                              Planet 51         5.851497\n",
       "778                              Meet Dave         5.666546"
      ]
     },
     "execution_count": 251,
     "metadata": {},
     "output_type": "execute_result"
    }
   ],
   "source": [
    "get_similar_movies('John Carter')"
   ]
  },
  {
   "cell_type": "code",
   "execution_count": 252,
   "metadata": {},
   "outputs": [],
   "source": [
    "import pickle\n",
    "\n",
    "# Assume `movies` is your DataFrame with 'title' and 'vector' columns\n",
    "with open('data/movies.pkl', 'wb') as f:\n",
    "    pickle.dump(movies_df, f)\n",
    "\n",
    "with open('data/similarity_words.pkl', 'wb') as f:\n",
    "    pickle.dump(similarity_words, f)"
   ]
  }
 ],
 "metadata": {
  "kernelspec": {
   "display_name": "movie_venv",
   "language": "python",
   "name": "python3"
  },
  "language_info": {
   "codemirror_mode": {
    "name": "ipython",
    "version": 3
   },
   "file_extension": ".py",
   "mimetype": "text/x-python",
   "name": "python",
   "nbconvert_exporter": "python",
   "pygments_lexer": "ipython3",
   "version": "3.10.12"
  }
 },
 "nbformat": 4,
 "nbformat_minor": 2
}
